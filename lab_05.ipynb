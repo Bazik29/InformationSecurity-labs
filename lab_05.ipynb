{
 "cells": [
  {
   "cell_type": "markdown",
   "metadata": {},
   "source": [
    "# Шифр «Поворотная решетка»"
   ]
  },
  {
   "cell_type": "markdown",
   "metadata": {},
   "source": [
    "## Функции для работы"
   ]
  },
  {
   "cell_type": "code",
   "execution_count": 1,
   "metadata": {},
   "outputs": [],
   "source": [
    "import math\n",
    "import random\n",
    "import itertools\n",
    "import numpy as np\n",
    "\n",
    "EMPTY = 2\n",
    "HOLE = 1\n",
    "BLOCK = 0\n",
    "\n",
    "\n",
    "def getAllDims(value):\n",
    "    dims = []\n",
    "    for i in range(1, int(math.sqrt(value) + 1)):\n",
    "        j = value // i\n",
    "        if value % i == 0 and j % 2 == 0 and i % 2 == 0:\n",
    "            dims.append([i, j])\n",
    "    return dims\n",
    "\n",
    "\n",
    "def getAllDimsText(text):\n",
    "    value = len(text)\n",
    "    dims = []\n",
    "    for i in range(1, int(math.sqrt(value) + 1)):\n",
    "        j = value // i\n",
    "        if value % i == 0 and j % 2 == 0 and i % 2 == 0:\n",
    "            dims.append([i, j])\n",
    "    return dims\n",
    "\n",
    "\n",
    "def testDim(pair):\n",
    "    return pair[0] % 2 == 0 and pair[1] % 2 == 0\n",
    "\n",
    "\n",
    "def testDimsForText(text, dims):\n",
    "    l = len(text)\n",
    "    r = 0\n",
    "    for dim in dims:\n",
    "        r += dim[0]*dim[1]\n",
    "    if l > r:\n",
    "        return False, [l, r]\n",
    "    else:\n",
    "        return True, [l, r]\n",
    "    \n",
    "    \n",
    "def writeDimsToFile(path, pairs):\n",
    "    with open(path, 'w') as file:\n",
    "        for pair in pairs:\n",
    "            file.write(f\"{pair[0]}x{pair[1]}\\n\")\n",
    "\n",
    "\n",
    "def readDimsFromFile(path):\n",
    "    pairs = []\n",
    "    with open(path, 'r') as file:\n",
    "        for line in file:\n",
    "            pairs.append(list(map(int, line.split('x'))))\n",
    "    return pairs\n",
    "\n",
    "\n",
    "def writeKeysToFile(path, keys):\n",
    "    with open(path, 'w') as file:\n",
    "        for grille in keys:\n",
    "            grille_str = \"\".join(map(str, grille.flatten()))\n",
    "            file.write(f\"{grille.shape[0]}x{grille.shape[1]}x{grille_str}\\n\")\n",
    "\n",
    "\n",
    "def readKeysFromFile(path):\n",
    "    keys = []\n",
    "    with open(path, 'r') as file:\n",
    "        for line in file:\n",
    "            items = line.strip().split('x')\n",
    "            grille = np.array(tuple(items[2]), dtype=int).reshape(\n",
    "                int(items[0]), int(items[1]))\n",
    "            keys.append(grille)\n",
    "    return keys\n",
    "\n",
    "\n",
    "def genGrilleRandom(dim):\n",
    "    grille = np.zeros(dim[0] * dim[1], dtype=int).reshape(dim[0], dim[1])\n",
    "    all_index = list(itertools.product(range(0, dim[0]), range(0, dim[1])))\n",
    "\n",
    "    while len(all_index) != 0:\n",
    "        i = random.randint(0, len(all_index) - 1)\n",
    "\n",
    "        ind_1 = all_index[i]\n",
    "        ind_2 = dim[0] - 1 - all_index[i][0], all_index[i][1]\n",
    "        ind_3 = dim[0] - 1 - all_index[i][0], dim[1] - 1 - all_index[i][1]\n",
    "        ind_4 = all_index[i][0], dim[1] - 1 - all_index[i][1]\n",
    "\n",
    "        grille[ind_1[0]][ind_1[1]] = HOLE\n",
    "        grille[ind_2[0]][ind_2[1]] = BLOCK\n",
    "        grille[ind_3[0]][ind_3[1]] = BLOCK\n",
    "        grille[ind_4[0]][ind_4[1]] = BLOCK\n",
    "\n",
    "        all_index.pop(all_index.index(ind_1))\n",
    "        all_index.pop(all_index.index(ind_2))\n",
    "        all_index.pop(all_index.index(ind_3))\n",
    "        all_index.pop(all_index.index(ind_4))\n",
    "    return grille\n",
    "\n",
    "\n",
    "def encode(text, grille):\n",
    "    encode_matrix = np.chararray(grille.shape, unicode=True)\n",
    "    encode_matrix[:] = ''\n",
    "    text_index = 0\n",
    "    # Прямое\n",
    "    for m_index, value in np.ndenumerate(grille):\n",
    "        if value == HOLE:\n",
    "            encode_matrix[m_index] = text[text_index]\n",
    "            text_index += 1\n",
    "    # Переворот на 180\n",
    "    rot180 = np.rot90(grille, 2)\n",
    "    for m_index, value in np.ndenumerate(rot180):\n",
    "        if value == HOLE:\n",
    "            encode_matrix[m_index] = text[text_index]\n",
    "            text_index += 1\n",
    "    # Отзеркаливание с переворотом\n",
    "    flip_rot180 = np.fliplr(rot180)\n",
    "    for m_index, value in np.ndenumerate(flip_rot180):\n",
    "        if value == HOLE:\n",
    "            encode_matrix[m_index] = text[text_index]\n",
    "            text_index += 1\n",
    "    # Поворот на 180 отзеркаливания с переворотом\n",
    "    rot180_flip_rot180 = np.rot90(flip_rot180, 2)\n",
    "    for m_index, value in np.ndenumerate(rot180_flip_rot180):\n",
    "        if value == HOLE:\n",
    "            encode_matrix[m_index] = text[text_index]\n",
    "            text_index += 1\n",
    "    return encode_matrix\n",
    "\n",
    "\n",
    "def decode(matrix, grille):\n",
    "    decode_text = []\n",
    "    # Прямое\n",
    "    for m_index, value in np.ndenumerate(grille):\n",
    "        if value == HOLE:\n",
    "            decode_text.append(matrix[m_index])\n",
    "    # Переворот на 180\n",
    "    rot180 = np.rot90(grille, 2)\n",
    "    for m_index, value in np.ndenumerate(rot180):\n",
    "        if value == HOLE:\n",
    "            decode_text.append(matrix[m_index])\n",
    "    # Отзеркаливание с переворотом\n",
    "    flip_rot180 = np.fliplr(rot180)\n",
    "    for m_index, value in np.ndenumerate(flip_rot180):\n",
    "        if value == HOLE:\n",
    "            decode_text.append(matrix[m_index])\n",
    "    # Поворот на 180 отзеркаливания с переворотом\n",
    "    rot180_flip_rot180 = np.rot90(flip_rot180, 2)\n",
    "    for m_index, value in np.ndenumerate(rot180_flip_rot180):\n",
    "        if value == HOLE:\n",
    "            decode_text.append(matrix[m_index])\n",
    "    return ''.join(decode_text)\n",
    "\n",
    "\n",
    "def encodeWithOneKey(text, key):\n",
    "    return ''.join(list(encode(text, key).flatten()))\n",
    "\n",
    "\n",
    "def decodeWithOneKey(text, key):\n",
    "    matrix = np.array(list(text)).reshape(key.shape)\n",
    "    return ''.join(decode(matrix, key))\n",
    "\n",
    "\n",
    "def encodeWithSeveralKeys(text, keys, aggreg=\"x\"):\n",
    "    text = text.replace(' ', '').replace('\\t', '').replace('\\n', '')\n",
    "\n",
    "    encode_result = []\n",
    "    ptr = 0\n",
    "    for key in keys:\n",
    "        while(ptr + key.size > len(text)):\n",
    "            text += aggreg\n",
    "        part_text = text[ptr: ptr + key.size]\n",
    "        temp = encode(part_text, key)\n",
    "        encode_result += list(temp.flatten())\n",
    "        ptr += key.size\n",
    "    return ''.join(encode_result)\n",
    "\n",
    "\n",
    "def decodeWithSeveralKeys(text, keys):\n",
    "    decode_result = []\n",
    "    ptr = 0\n",
    "    for key in keys:\n",
    "        part_text = text[ptr: ptr + key.size]\n",
    "        matrix = np.array(list(part_text)).reshape(key.shape)\n",
    "        decode_result += decode(matrix, key)\n",
    "        ptr += key.size\n",
    "    return ''.join(decode_result)\n",
    "\n",
    "\n",
    "def prepareTextForOneKey(text, aggreg=\"x\"):\n",
    "    text = text.replace(' ', '').replace('\\t', '').replace('\\n', '')\n",
    "    while(len(text) % 4 != 0):\n",
    "        text = text + aggreg\n",
    "    return text\n",
    "\n",
    "\n",
    "def prepareTextForSeveralKey(text):\n",
    "    text = text.replace(' ', '').replace('\\t', '').replace('\\n', '')\n",
    "    return text"
   ]
  },
  {
   "cell_type": "markdown",
   "metadata": {},
   "source": [
    "## Использование"
   ]
  },
  {
   "cell_type": "code",
   "execution_count": 2,
   "metadata": {},
   "outputs": [
    {
     "name": "stdout",
     "output_type": "stream",
     "text": [
      "ПОВОРОТНАЯ ШИФРРЕШЕТКА ЯВЛЯЕТСЯ ЧАСТНЫМ СЛУЧАЕМ \n",
      "ШИФРА МАРШРУТНОЙ ПЕРЕСТАНОВКИ\n"
     ]
    }
   ],
   "source": [
    "textToEncode = \"ПОВОРОТНАЯ ШИФРРЕШЕТКА ЯВЛЯЕТСЯ ЧАСТНЫМ СЛУЧАЕМ \\nШИФРА МАРШРУТНОЙ ПЕРЕСТАНОВКИ\"\n",
    "print(textToEncode)"
   ]
  },
  {
   "cell_type": "markdown",
   "metadata": {},
   "source": [
    "### Шифрование с одним ключем"
   ]
  },
  {
   "cell_type": "code",
   "execution_count": 3,
   "metadata": {},
   "outputs": [
    {
     "name": "stdout",
     "output_type": "stream",
     "text": [
      "ПОВОРОТНАЯШИФРРЕШЕТКАЯВЛЯЕТСЯЧАСТНЫМСЛУЧАЕМШИФРАМАРШРУТНОЙПЕРЕСТАНОВКИxx\n",
      "Длина сообщения: 72\n"
     ]
    }
   ],
   "source": [
    "# Убирание переносов, пробелов и табуляции\n",
    "# Дополнение строки для кратности 4м\n",
    "tmp = prepareTextForOneKey(textToEncode)\n",
    "print(tmp)\n",
    "print(\"Длина сообщения:\",len(tmp))"
   ]
  },
  {
   "cell_type": "code",
   "execution_count": 4,
   "metadata": {},
   "outputs": [
    {
     "name": "stdout",
     "output_type": "stream",
     "text": [
      "0: [2, 36]\n",
      "1: [4, 18]\n",
      "2: [6, 12]\n"
     ]
    }
   ],
   "source": [
    "# Вывод возможных ключей\n",
    "dims = getAllDimsText(tmp)\n",
    "for i, dim in enumerate(dims):\n",
    "    print(f\"{i}: {dim}\")"
   ]
  },
  {
   "cell_type": "code",
   "execution_count": 5,
   "metadata": {},
   "outputs": [
    {
     "name": "stdout",
     "output_type": "stream",
     "text": [
      "[[0 1 0 1 0 0 1 0 0 1 1 0 0 1 0 0 0 0]\n",
      " [0 1 0 1 0 0 0 0 0 0 0 1 1 0 0 0 0 0]\n",
      " [0 0 1 0 1 0 0 0 1 0 1 0 0 0 0 0 0 1]\n",
      " [1 0 1 0 0 1 0 0 0 0 0 0 0 0 0 0 0 0]]\n"
     ]
    }
   ],
   "source": [
    "# Выбираем размерность [4, 18]\n",
    "dim = dims[1]\n",
    "\n",
    "# Генерируем случайныйй ключ\n",
    "key = genGrilleRandom(dim)\n",
    "print(key)\n",
    "\n",
    "# Запись ключа в файл\n",
    "writeKeysToFile(\"key.txt\", [key])"
   ]
  },
  {
   "cell_type": "code",
   "execution_count": 6,
   "metadata": {},
   "outputs": [
    {
     "name": "stdout",
     "output_type": "stream",
     "text": [
      "СПЛОТУВНООРЙТОПКЕАЯТЧНАРЕВЕЛМАЯЯСЕТШАИШФИТСНФОРРАВЯКЧРЕМШААЕРСТШРНИУЫxМx\n"
     ]
    }
   ],
   "source": [
    "# Шифруем текст одним ключем\n",
    "text_encode = encodeWithOneKey(tmp, key)\n",
    "print(text_encode)"
   ]
  },
  {
   "cell_type": "markdown",
   "metadata": {},
   "source": [
    "### Расшифровка одним ключем"
   ]
  },
  {
   "cell_type": "code",
   "execution_count": 7,
   "metadata": {},
   "outputs": [
    {
     "name": "stdout",
     "output_type": "stream",
     "text": [
      "[[0 1 0 1 0 0 1 0 0 1 1 0 0 1 0 0 0 0]\n",
      " [0 1 0 1 0 0 0 0 0 0 0 1 1 0 0 0 0 0]\n",
      " [0 0 1 0 1 0 0 0 1 0 1 0 0 0 0 0 0 1]\n",
      " [1 0 1 0 0 1 0 0 0 0 0 0 0 0 0 0 0 0]]\n"
     ]
    }
   ],
   "source": [
    "# Чтение ключа из файла\n",
    "tmp_keys = readKeysFromFile(\"key.txt\")\n",
    "key = tmp_keys[0]\n",
    "print(key)"
   ]
  },
  {
   "cell_type": "code",
   "execution_count": 8,
   "metadata": {},
   "outputs": [
    {
     "name": "stdout",
     "output_type": "stream",
     "text": [
      "ПОВОРОТНАЯШИФРРЕШЕТКАЯВЛЯЕТСЯЧАСТНЫМСЛУЧАЕМШИФРАМАРШРУТНОЙПЕРЕСТАНОВКИxx \n",
      "\n",
      "ПОВОРОТНАЯ ШИФРРЕШЕТКА ЯВЛЯЕТСЯ ЧАСТНЫМ СЛУЧАЕМ \n",
      "ШИФРА МАРШРУТНОЙ ПЕРЕСТАНОВКИ\n"
     ]
    }
   ],
   "source": [
    "# Расшифровка\n",
    "text_decode = decodeWithOneKey(text_encode, key)\n",
    "print(text_decode, \"\\n\")\n",
    "print(textToEncode)"
   ]
  },
  {
   "cell_type": "markdown",
   "metadata": {},
   "source": [
    "---\n",
    "### Шифрование с несколькими ключами"
   ]
  },
  {
   "cell_type": "code",
   "execution_count": 9,
   "metadata": {},
   "outputs": [
    {
     "name": "stdout",
     "output_type": "stream",
     "text": [
      "Длина текста: 78, суммарная длина ключей: 96\n"
     ]
    }
   ],
   "source": [
    "# Создаем массив желаемых размерностей ключа\n",
    "key_dims = [[4, 6], [6, 12]]\n",
    "\n",
    "# Проверка размерностей\n",
    "for dim in key_dims:\n",
    "    if not testDim(dim):\n",
    "        print(f\"Неверная размерность ключа:{dim}\")\n",
    "        \n",
    "t, s = testDimsForText(textToEncode, key_dims)\n",
    "if not t:\n",
    "    print(f\"Не возможно зашифровать текст. Длина текста: {s[0]}, суммарная длина ключей: {s[1]}\")\n",
    "else:\n",
    "    print(f\"Длина текста: {s[0]}, суммарная длина ключей: {s[1]}\")"
   ]
  },
  {
   "cell_type": "code",
   "execution_count": 10,
   "metadata": {},
   "outputs": [
    {
     "name": "stdout",
     "output_type": "stream",
     "text": [
      "[[0 0 0 1 0 0]\n",
      " [0 0 1 0 1 0]\n",
      " [0 0 0 0 0 1]\n",
      " [1 1 0 0 0 0]]\n",
      "[[1 1 0 1 0 0 0 1 0 1 0 0]\n",
      " [1 0 0 0 1 0 0 0 0 1 0 0]\n",
      " [0 0 0 1 0 1 0 1 0 1 1 0]\n",
      " [0 0 0 0 0 0 0 0 0 0 0 1]\n",
      " [0 1 0 0 0 0 1 0 1 0 0 0]\n",
      " [0 0 0 0 0 1 0 0 0 0 0 0]]\n"
     ]
    }
   ],
   "source": [
    "# Генерация случайных ключей\n",
    "keys = [genGrilleRandom(dim) for dim in key_dims]\n",
    "\n",
    "for key in keys:\n",
    "    print(key)\n",
    "    \n",
    "# Запись ключей в файл\n",
    "writeKeysToFile(\"key.txt\", keys)"
   ]
  },
  {
   "cell_type": "code",
   "execution_count": 11,
   "metadata": {},
   "outputs": [
    {
     "name": "stdout",
     "output_type": "stream",
     "text": [
      "ФРТПТНАКОАВРЯЯЕШШОРОИЕВЛЯЕxТxРМСxЯxxЧЕxШАИСxТСФxРxxТxНxЫxМСАxАМНАОРВШКИЛxУРxxxЧУАxxТxxНxОЕxxЙxПЕ\n"
     ]
    }
   ],
   "source": [
    "# Шифруем текст\n",
    "text_encode = encodeWithSeveralKeys(textToEncode, keys)\n",
    "print(text_encode)"
   ]
  },
  {
   "cell_type": "markdown",
   "metadata": {},
   "source": [
    "### Расшифровка с несколькими ключами"
   ]
  },
  {
   "cell_type": "code",
   "execution_count": 12,
   "metadata": {},
   "outputs": [
    {
     "name": "stdout",
     "output_type": "stream",
     "text": [
      "[[0 0 0 1 0 0]\n",
      " [0 0 1 0 1 0]\n",
      " [0 0 0 0 0 1]\n",
      " [1 1 0 0 0 0]]\n",
      "[[1 1 0 1 0 0 0 1 0 1 0 0]\n",
      " [1 0 0 0 1 0 0 0 0 1 0 0]\n",
      " [0 0 0 1 0 1 0 1 0 1 1 0]\n",
      " [0 0 0 0 0 0 0 0 0 0 0 1]\n",
      " [0 1 0 0 0 0 1 0 1 0 0 0]\n",
      " [0 0 0 0 0 1 0 0 0 0 0 0]]\n"
     ]
    }
   ],
   "source": [
    "# Чтение ключей из файла\n",
    "keys = readKeysFromFile(\"key.txt\")\n",
    "for key in keys:\n",
    "    print(key)"
   ]
  },
  {
   "cell_type": "code",
   "execution_count": 13,
   "metadata": {},
   "outputs": [
    {
     "name": "stdout",
     "output_type": "stream",
     "text": [
      "ПОВОРОТНАЯШИФРРЕШЕТКАЯВЛЯЕТСЯЧАСТНЫМСЛУЧАЕМШИФРАМАРШРУТНОЙПЕРЕСТАНОВКИxxxxxxxxxxxxxxxxxxxxxxxxxx \n",
      "\n",
      "ПОВОРОТНАЯ ШИФРРЕШЕТКА ЯВЛЯЕТСЯ ЧАСТНЫМ СЛУЧАЕМ \n",
      "ШИФРА МАРШРУТНОЙ ПЕРЕСТАНОВКИ\n"
     ]
    }
   ],
   "source": [
    "# Расшифровка\n",
    "text_decode = decodeWithSeveralKeys(text_encode, keys)\n",
    "print(text_decode, \"\\n\")\n",
    "print(textToEncode)"
   ]
  }
 ],
 "metadata": {
  "kernelspec": {
   "display_name": "Python 3",
   "language": "python",
   "name": "python3"
  },
  "language_info": {
   "codemirror_mode": {
    "name": "ipython",
    "version": 3
   },
   "file_extension": ".py",
   "mimetype": "text/x-python",
   "name": "python",
   "nbconvert_exporter": "python",
   "pygments_lexer": "ipython3",
   "version": "3.7.0"
  }
 },
 "nbformat": 4,
 "nbformat_minor": 2
}
