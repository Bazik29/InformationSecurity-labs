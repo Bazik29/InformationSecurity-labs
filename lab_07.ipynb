{
 "cells": [
  {
   "cell_type": "markdown",
   "metadata": {},
   "source": [
    "# Цифровая подпись Эль Гамаля"
   ]
  },
  {
   "cell_type": "markdown",
   "metadata": {},
   "source": [
    "### Функции для поиска простых чисел и мульт. обратного"
   ]
  },
  {
   "cell_type": "code",
   "execution_count": 1,
   "metadata": {},
   "outputs": [],
   "source": [
    "import random\n",
    "from math import gcd\n",
    "\n",
    "\n",
    "# Тест Люка — Лемера для чисел Мерсена\n",
    "def lucas_lemer(prime):\n",
    "    S = 4\n",
    "    k = 1\n",
    "    M = 2**prime-1\n",
    "    while k != (prime-1):\n",
    "        S = ((S*S)-2) % M\n",
    "        k += 1\n",
    "    return S == 0\n",
    "\n",
    "\n",
    "# Поиск простого числа\n",
    "def random_prime():\n",
    "    while True:\n",
    "        prime = random.randint(64, 512)\n",
    "        if 2 in [prime, 2**prime % prime]:\n",
    "            if lucas_lemer(prime):\n",
    "                break\n",
    "    return 2**prime-1\n",
    "\n",
    "# Пара взаимно простых чисел a, b a > b\n",
    "def gen_pair_prime():\n",
    "    a = random_prime()\n",
    "    while True:\n",
    "        b = random_prime()\n",
    "        if a != b and gcd(a, b) == 1:\n",
    "            if a > b:\n",
    "                return a, b\n",
    "            else:\n",
    "                return b, a\n",
    "\n",
    "\n",
    "# Мультипликативное обратное\n",
    "def modinv(a, m):\n",
    "    def egcd(a, b):\n",
    "        if a == 0:\n",
    "            return (b, 0, 1)\n",
    "        else:\n",
    "            g, y, x = egcd(b % a, a)\n",
    "            return (g, x - (b // a) * y, y)\n",
    "    \n",
    "    g, x, _ = egcd(a, m)\n",
    "    if g != 1:\n",
    "        raise Exception(\"Error\")\n",
    "    else:\n",
    "        return x % m\n",
    "\n",
    "\n",
    "# Генерация случайного k и мультипликативного обратного к нему по модулю p-1\n",
    "def random_k_invk(p):\n",
    "    k = random.randint(2, p-2)\n",
    "    if gcd(k, p-1) != 1:\n",
    "        return random_k_invk(p)\n",
    "    else:\n",
    "        return k, modinv(k, p-1)"
   ]
  },
  {
   "cell_type": "markdown",
   "metadata": {},
   "source": [
    "#### Класс пользователя"
   ]
  },
  {
   "cell_type": "code",
   "execution_count": 2,
   "metadata": {},
   "outputs": [],
   "source": [
    "class User():\n",
    "    def __init__(self, g, p):\n",
    "        self.g = g\n",
    "        self.p = p\n",
    "        self.__secret_key = random.randint(2, p - 1)\n",
    "        self.public_key = pow(g, self.__secret_key, p)\n",
    "\n",
    "    # Хеш функция\n",
    "    def __hash(self, message):\n",
    "        h = sum([ord(i) for i in message]) % (p - 2)\n",
    "        if h == 1:\n",
    "            h += 1\n",
    "        return h\n",
    "    \n",
    "    # Генерация нового секретного и открытого ключа\n",
    "    def gen_new_key(self):\n",
    "        self.__secret_key = random.randint(2, p - 1)\n",
    "        self.public_key = pow(g, self.__secret_key, p)\n",
    "\n",
    "    # Создание подписи к сообщению\n",
    "    def make_sing(self, message):\n",
    "        k, k_inv = random_k_invk(self.p)\n",
    "        r = pow(g, k, p)\n",
    "        m = self.__hash(message)\n",
    "        s = (m - self.__secret_key*r) * k_inv % (p - 1)\n",
    "        # print(f\"K: {k} iK: {k_inv} m: {m} r: {r} s: {s} sign({r},{s})\\n\")\n",
    "        k = None\n",
    "        return r, s\n",
    "    \n",
    "    # Проверка подписи\n",
    "    def check_sign(self, publicKey, message, sign):\n",
    "        r, s = sign\n",
    "        m = self.__hash(message)\n",
    "        # print(\"hash\", m)\n",
    "        # print(\"yrp\", publicKey, r, self.p)\n",
    "        # print(\"rsp\", r, s, self.p)\n",
    "        left = pow(publicKey, r, self.p)*pow(r, s, self.p) % self.p\n",
    "        right = pow(self.g, m, self.p)\n",
    "        # print(\"left:\", left, \"right:\",  right)\n",
    "        return left == right"
   ]
  },
  {
   "cell_type": "markdown",
   "metadata": {},
   "source": [
    "Генерация простого g и первообразного корня к нему p"
   ]
  },
  {
   "cell_type": "code",
   "execution_count": 3,
   "metadata": {},
   "outputs": [
    {
     "name": "stdout",
     "output_type": "stream",
     "text": [
      "170141183460469231731687303715884105727 162259276829213363391578010288127\n",
      "1\n"
     ]
    }
   ],
   "source": [
    "# g = random_prime()\n",
    "# p = random.randint(4, 13)\n",
    "# g, p = 618970019642690137449562111, 11\n",
    "\n",
    "g, p = gen_pair_prime()\n",
    "print(g, p)\n",
    "print(gcd(g, p))"
   ]
  },
  {
   "cell_type": "markdown",
   "metadata": {},
   "source": [
    "Создание пользователей"
   ]
  },
  {
   "cell_type": "code",
   "execution_count": 4,
   "metadata": {},
   "outputs": [],
   "source": [
    "Alice = User(g, p)\n",
    "Bob = User(g, p)\n",
    "Carol = User(g, p)"
   ]
  },
  {
   "cell_type": "markdown",
   "metadata": {},
   "source": [
    "#### Alice создает подпись к сообщению. Bob проверяет что это сообщение от Alice"
   ]
  },
  {
   "cell_type": "code",
   "execution_count": 5,
   "metadata": {},
   "outputs": [
    {
     "name": "stdout",
     "output_type": "stream",
     "text": [
      "Это сообщение от Alice\n"
     ]
    }
   ],
   "source": [
    "mesg_A = \"Hello World!!!\"\n",
    "sign_A = Alice.make_sing(mesg_A)\n",
    "\n",
    "res_check = Bob.check_sign(Alice.public_key, mesg_A, sign_A)\n",
    "\n",
    "if res_check:\n",
    "    print(\"Это сообщение от Alice\")\n",
    "else:\n",
    "    print(\"Это сообщение НЕ от Alice\")"
   ]
  },
  {
   "cell_type": "markdown",
   "metadata": {},
   "source": [
    "#### Carol заменяет сообщение, но не трогает подпись. Bob проверяет что это сообщение от Alice"
   ]
  },
  {
   "cell_type": "code",
   "execution_count": 6,
   "metadata": {},
   "outputs": [
    {
     "name": "stdout",
     "output_type": "stream",
     "text": [
      "Это сообщение НЕ от Alice\n"
     ]
    }
   ],
   "source": [
    "mesg_С = \"Hello World!!?\"\n",
    "\n",
    "res_check = Bob.check_sign(Alice.public_key, mesg_С, sign_A)\n",
    "\n",
    "if res_check:\n",
    "    print(\"Это сообщение от Alice\")\n",
    "else:\n",
    "    print(\"Это сообщение НЕ от Alice\")"
   ]
  },
  {
   "cell_type": "markdown",
   "metadata": {},
   "source": [
    "#### Carol знает хеш-функцию. Carol заменяет сообщение, и делает свою подпись. Bob проверяет что это сообщение от Alice"
   ]
  },
  {
   "cell_type": "code",
   "execution_count": 7,
   "metadata": {},
   "outputs": [
    {
     "name": "stdout",
     "output_type": "stream",
     "text": [
      "Это сообщение НЕ от Alice\n"
     ]
    }
   ],
   "source": [
    "mesg_С = \"Hello World!!?\"\n",
    "sign_С = Carol.make_sing(mesg_С)\n",
    "\n",
    "res_check = Bob.check_sign(Alice.public_key, mesg_С, sign_С)\n",
    "\n",
    "if res_check:\n",
    "    print(\"Это сообщение от Alice\")\n",
    "else:\n",
    "    print(\"Это сообщение НЕ от Alice\")"
   ]
  },
  {
   "cell_type": "markdown",
   "metadata": {},
   "source": [
    "#### Carol посылает сообщение Alice"
   ]
  },
  {
   "cell_type": "code",
   "execution_count": 8,
   "metadata": {},
   "outputs": [
    {
     "name": "stdout",
     "output_type": "stream",
     "text": [
      "Это сообщение от Carol\n"
     ]
    }
   ],
   "source": [
    "mesg_С = \"Hello World!!?\"\n",
    "sign_С = Carol.make_sing(mesg_С)\n",
    "\n",
    "res_check = Alice.check_sign(Carol.public_key, mesg_С, sign_С)\n",
    "\n",
    "if res_check:\n",
    "    print(\"Это сообщение от Carol\")\n",
    "else:\n",
    "    print(\"Это сообщение НЕ от Carol\")"
   ]
  },
  {
   "cell_type": "code",
   "execution_count": null,
   "metadata": {},
   "outputs": [],
   "source": []
  }
 ],
 "metadata": {
  "kernelspec": {
   "display_name": "Python 3",
   "language": "python",
   "name": "python3"
  },
  "language_info": {
   "codemirror_mode": {
    "name": "ipython",
    "version": 3
   },
   "file_extension": ".py",
   "mimetype": "text/x-python",
   "name": "python",
   "nbconvert_exporter": "python",
   "pygments_lexer": "ipython3",
   "version": "3.6.7"
  }
 },
 "nbformat": 4,
 "nbformat_minor": 2
}
